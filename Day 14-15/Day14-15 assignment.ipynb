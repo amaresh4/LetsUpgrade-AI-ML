{
 "cells": [
  {
   "cell_type": "markdown",
   "metadata": {},
   "source": [
    "#  Create a 3x3x3 array with random values "
   ]
  },
  {
   "cell_type": "code",
   "execution_count": 2,
   "metadata": {},
   "outputs": [],
   "source": [
    "import numpy as np\n",
    "from datetime import date, timedelta"
   ]
  },
  {
   "cell_type": "code",
   "execution_count": 3,
   "metadata": {},
   "outputs": [
    {
     "data": {
      "text/plain": [
       "array([[[0.67557942, 0.41173569, 0.05758534],\n",
       "        [0.14755729, 0.0924994 , 0.33704096],\n",
       "        [0.48357773, 0.47856043, 0.06496453]],\n",
       "\n",
       "       [[0.93070014, 0.32869267, 0.21736433],\n",
       "        [0.69524667, 0.96001876, 0.68903204],\n",
       "        [0.19438656, 0.41385237, 0.37073615]],\n",
       "\n",
       "       [[0.34899675, 0.1196484 , 0.2561883 ],\n",
       "        [0.01037268, 0.63571994, 0.27307307],\n",
       "        [0.32546424, 0.14108191, 0.76978881]]])"
      ]
     },
     "execution_count": 3,
     "metadata": {},
     "output_type": "execute_result"
    }
   ],
   "source": [
    "arr = np.random.rand(3,3,3)\n",
    "arr"
   ]
  },
  {
   "cell_type": "markdown",
   "metadata": {},
   "source": [
    "# Create a 5x5 matrix with values 1,2,3,4 just below the diagonal"
   ]
  },
  {
   "cell_type": "code",
   "execution_count": 4,
   "metadata": {},
   "outputs": [
    {
     "data": {
      "text/plain": [
       "array([[0, 0, 0, 0, 0],\n",
       "       [1, 0, 0, 0, 0],\n",
       "       [0, 2, 0, 0, 0],\n",
       "       [0, 0, 3, 0, 0],\n",
       "       [0, 0, 0, 4, 0]])"
      ]
     },
     "execution_count": 4,
     "metadata": {},
     "output_type": "execute_result"
    }
   ],
   "source": [
    "arr = np.diag(np.arange(4) + 1, k = -1)\n",
    "arr"
   ]
  },
  {
   "cell_type": "markdown",
   "metadata": {},
   "source": [
    "# Create a 8x8 matrix and fill it with a checkerboard pattern"
   ]
  },
  {
   "cell_type": "code",
   "execution_count": 5,
   "metadata": {},
   "outputs": [
    {
     "data": {
      "text/plain": [
       "array([[0, 1, 0, 1, 0, 1, 0, 1],\n",
       "       [1, 0, 1, 0, 1, 0, 1, 0],\n",
       "       [0, 1, 0, 1, 0, 1, 0, 1],\n",
       "       [1, 0, 1, 0, 1, 0, 1, 0],\n",
       "       [0, 1, 0, 1, 0, 1, 0, 1],\n",
       "       [1, 0, 1, 0, 1, 0, 1, 0],\n",
       "       [0, 1, 0, 1, 0, 1, 0, 1],\n",
       "       [1, 0, 1, 0, 1, 0, 1, 0]])"
      ]
     },
     "execution_count": 5,
     "metadata": {},
     "output_type": "execute_result"
    }
   ],
   "source": [
    "\n",
    "arr = np.tile(np.array([[0,1],[1,0]]), (4,4))\n",
    "arr\n"
   ]
  },
  {
   "cell_type": "markdown",
   "metadata": {},
   "source": [
    "#  Normalize a 5x5 random matrix"
   ]
  },
  {
   "cell_type": "code",
   "execution_count": 6,
   "metadata": {},
   "outputs": [
    {
     "data": {
      "text/plain": [
       "array([[0.20487487, 0.        , 0.00370493, 0.70225048, 1.        ],\n",
       "       [0.51178696, 0.11813813, 0.46940809, 0.39801532, 0.45190566],\n",
       "       [0.08894233, 0.7202663 , 0.1760057 , 0.39510412, 0.39778271],\n",
       "       [0.75363381, 0.13560677, 0.46226316, 0.32036682, 0.24546413],\n",
       "       [0.00248277, 0.53998089, 0.35495522, 0.29071438, 0.75962175]])"
      ]
     },
     "execution_count": 6,
     "metadata": {},
     "output_type": "execute_result"
    }
   ],
   "source": [
    "d = np.random.random((5,5))\n",
    "dmax,dmin=d.max(),d.min()\n",
    "d= (d-dmin)/(dmax-dmin)\n",
    "d"
   ]
  },
  {
   "cell_type": "markdown",
   "metadata": {},
   "source": [
    "#   How to find common values between two arrays?"
   ]
  },
  {
   "cell_type": "code",
   "execution_count": 7,
   "metadata": {},
   "outputs": [
    {
     "data": {
      "text/plain": [
       "array([12, 20])"
      ]
     },
     "execution_count": 7,
     "metadata": {},
     "output_type": "execute_result"
    }
   ],
   "source": [
    "a = np.array([2,9,12,15,20])\n",
    "b = np.array([4,8,12,16,20])\n",
    "c = np.intersect1d(a,b)\n",
    "c"
   ]
  },
  {
   "cell_type": "markdown",
   "metadata": {},
   "source": [
    "# 6.How to get the dates of yesterday, today and tomorrow?"
   ]
  },
  {
   "cell_type": "code",
   "execution_count": 11,
   "metadata": {},
   "outputs": [
    {
     "name": "stdout",
     "output_type": "stream",
     "text": [
      "Todays Date:  2020-07-28\n",
      "Yesterday Date:  2020-07-27\n",
      "Tomorrow Date:  2020-07-29\n"
     ]
    }
   ],
   "source": [
    "today = np.datetime64('today')\n",
    "ystrdy = today - np.timedelta64(1)\n",
    "tmrw = today + np.timedelta64(1)\n",
    "print('Todays Date: ',today)\n",
    "print('Yesterday Date: ',ystrdy)\n",
    "print('Tomorrow Date: ',tmrw)"
   ]
  },
  {
   "cell_type": "markdown",
   "metadata": {},
   "source": [
    "#  Consider two random array A and B, check if they are equal"
   ]
  },
  {
   "cell_type": "code",
   "execution_count": 13,
   "metadata": {},
   "outputs": [
    {
     "name": "stdout",
     "output_type": "stream",
     "text": [
      "Array1:\n",
      "[[0.41993829 0.40723754 0.811062  ]\n",
      " [0.72848356 0.07829079 0.92755105]\n",
      " [0.020439   0.14645309 0.53976527]]\n",
      "\n",
      "\n",
      "Array2:\n",
      "[[0.6324453  0.41983987 0.8724069 ]\n",
      " [0.40199392 0.03061802 0.83277735]\n",
      " [0.53224574 0.38052745 0.98447113]]\n",
      "\n",
      "\n",
      "Equality: False\n"
     ]
    }
   ],
   "source": [
    "arr1 = np.random.rand(3,3)\n",
    "arr2 = np.random.rand(3,3)\n",
    "\n",
    "equal = np.array_equal(arr1,arr2)\n",
    "print(f'Array1:\\n{arr1}\\n\\n')\n",
    "print(f'Array2:\\n{arr2}\\n\\n')\n",
    "print(f'Equality: {equal}')"
   ]
  },
  {
   "cell_type": "markdown",
   "metadata": {},
   "source": [
    "# Create random vector of size 10 and replace the maximum value by 0 "
   ]
  },
  {
   "cell_type": "code",
   "execution_count": 14,
   "metadata": {},
   "outputs": [
    {
     "data": {
      "text/plain": [
       "array([0.        , 0.06760345, 0.72453478, 0.48623307, 0.67778778,\n",
       "       0.067312  , 0.26386366, 0.2025568 , 0.23460197, 0.40190922])"
      ]
     },
     "execution_count": 14,
     "metadata": {},
     "output_type": "execute_result"
    }
   ],
   "source": [
    "arr = np.random.rand(10)\n",
    "arr[arr.argmax()] = 0\n",
    "arr"
   ]
  },
  {
   "cell_type": "markdown",
   "metadata": {},
   "source": [
    "#  How to print all the values of an array?"
   ]
  },
  {
   "cell_type": "code",
   "execution_count": 15,
   "metadata": {},
   "outputs": [
    {
     "name": "stdout",
     "output_type": "stream",
     "text": [
      "[[1. 1. 1. 1. 1.]\n",
      " [1. 1. 1. 1. 1.]\n",
      " [1. 1. 1. 1. 1.]\n",
      " [1. 1. 1. 1. 1.]\n",
      " [1. 1. 1. 1. 1.]]\n"
     ]
    }
   ],
   "source": [
    "arr = np.ones((5, 5))\n",
    "print(arr)\n",
    "\n"
   ]
  },
  {
   "cell_type": "markdown",
   "metadata": {},
   "source": [
    "# Subtract the mean of each row of a matrix"
   ]
  },
  {
   "cell_type": "code",
   "execution_count": 16,
   "metadata": {},
   "outputs": [
    {
     "name": "stdout",
     "output_type": "stream",
     "text": [
      "Initial Array:\n",
      " [[  1 120   0   0]\n",
      " [  2 140   0   0]\n",
      " [  3 110   0   0]]\n",
      "Mean of Each row:  [30.25 35.5  28.25]\n",
      "\n",
      "Resultant Matrix After Subtracting Mean:\n",
      " [[-29.25  89.75 -30.25 -30.25]\n",
      " [-33.5  104.5  -35.5  -35.5 ]\n",
      " [-25.25  81.75 -28.25 -28.25]]\n"
     ]
    }
   ],
   "source": [
    "arr = np.array([[1, 120, 0, 0], [2, 140, 0, 0], [3, 110, 0, 0]])\n",
    "print('Initial Array:\\n', arr)\n",
    "print('Mean of Each row: ',arr.mean(axis=1))\n",
    "mean = arr - arr.mean(axis=1, keepdims=True) \n",
    "print('\\nResultant Matrix After Subtracting Mean:\\n',mean)\n",
    "\n"
   ]
  },
  {
   "cell_type": "markdown",
   "metadata": {},
   "source": [
    "# Consider a given vector, how to add 1 to each element indexed by a second vector (be careful with repeated indices)? "
   ]
  },
  {
   "cell_type": "code",
   "execution_count": 17,
   "metadata": {},
   "outputs": [
    {
     "data": {
      "text/plain": [
       "array([2., 6., 2., 3., 2.])"
      ]
     },
     "execution_count": 17,
     "metadata": {},
     "output_type": "execute_result"
    }
   ],
   "source": [
    "arr1 = np.ones(5)\n",
    "arr2 = np.random.randint(0, len(arr1), 10)\n",
    "arr1 += np.bincount(arr2, minlength = len(arr1))\n",
    "arr1"
   ]
  },
  {
   "cell_type": "markdown",
   "metadata": {},
   "source": [
    "# How to get the diagonal of a dot product?"
   ]
  },
  {
   "cell_type": "code",
   "execution_count": 18,
   "metadata": {},
   "outputs": [
    {
     "name": "stdout",
     "output_type": "stream",
     "text": [
      "Array A:\n",
      " [[5 8 5]\n",
      " [9 1 0]\n",
      " [1 2 8]]\n",
      "Array B:\n",
      " [[9 8 3]\n",
      " [0 2 2]\n",
      " [2 2 3]]\n",
      "\n",
      "Dot product:\n",
      " [[55 66 46]\n",
      " [81 74 29]\n",
      " [25 28 31]]\n",
      "\n",
      "The Diagonal Elements are:\n",
      " [55 74 31]\n"
     ]
    }
   ],
   "source": [
    "A = np.random.randint(0,10,(3,3))\n",
    "B= np.random.randint(0,10,(3,3))\n",
    "\n",
    "print(\"Array A:\\n\", A)\n",
    "print(\"Array B:\\n\", B)\n",
    "\n",
    "print('\\nDot product:\\n',np.dot(A,B))\n",
    "dot = np.diag(np.dot(A, B))\n",
    "print('\\nThe Diagonal Elements are:\\n', dot)"
   ]
  },
  {
   "cell_type": "markdown",
   "metadata": {},
   "source": [
    "# How to find the most frequent value in an array?"
   ]
  },
  {
   "cell_type": "code",
   "execution_count": 19,
   "metadata": {},
   "outputs": [
    {
     "name": "stdout",
     "output_type": "stream",
     "text": [
      "[3 3 8 0 5 8 9 5 4 8 5 9 5 5 8 1 1 2 8 2]\n"
     ]
    },
    {
     "data": {
      "text/plain": [
       "5"
      ]
     },
     "execution_count": 19,
     "metadata": {},
     "output_type": "execute_result"
    }
   ],
   "source": [
    "arr = np.random.randint(0,10,20)\n",
    "print(arr)\n",
    "max(set(arr), key = list(arr).count)"
   ]
  },
  {
   "cell_type": "markdown",
   "metadata": {},
   "source": [
    "# How to get the n largest values of an array"
   ]
  },
  {
   "cell_type": "code",
   "execution_count": 20,
   "metadata": {},
   "outputs": [
    {
     "data": {
      "text/plain": [
       "3"
      ]
     },
     "execution_count": 20,
     "metadata": {},
     "output_type": "execute_result"
    }
   ],
   "source": [
    "arr = np.random.randint(0,10,50)\n",
    "np.bincount(arr).argmax()\n",
    "\n"
   ]
  },
  {
   "cell_type": "markdown",
   "metadata": {},
   "source": [
    "# How to create a record array from a regular array?"
   ]
  },
  {
   "cell_type": "code",
   "execution_count": 21,
   "metadata": {},
   "outputs": [
    {
     "name": "stdout",
     "output_type": "stream",
     "text": [
      "Original arrays:\n",
      "[['sumit' '88.5' '90']\n",
      " ['Ayaan' '87' '99']\n",
      " ['Preece' '85.5' '91']]\n",
      "\n",
      "Record array;\n",
      "[(b'sumit', 88.5, 90) (b'Ayaan', 87. , 99) (b'Preece', 85.5, 91)]\n"
     ]
    }
   ],
   "source": [
    "arra1 = np.array([(\"sumit\", 88.5, 90),\n",
    "                 (\"Ayaan\", 87, 99),\n",
    "                 (\"Preece\", 85.5, 91)])\n",
    "print(\"Original arrays:\")\n",
    "print(arra1)\n",
    "print(\"\\nRecord array;\")\n",
    "result = np.core.records.fromarrays(arra1.T,\n",
    "                              names='col1, col2, col3',\n",
    "                              formats = 'S80, f8, i8')\n",
    "print(result)\n"
   ]
  },
  {
   "cell_type": "code",
   "execution_count": null,
   "metadata": {},
   "outputs": [],
   "source": []
  }
 ],
 "metadata": {
  "kernelspec": {
   "display_name": "Python 3",
   "language": "python",
   "name": "python3"
  },
  "language_info": {
   "codemirror_mode": {
    "name": "ipython",
    "version": 3
   },
   "file_extension": ".py",
   "mimetype": "text/x-python",
   "name": "python",
   "nbconvert_exporter": "python",
   "pygments_lexer": "ipython3",
   "version": "3.7.6"
  },
  "toc": {
   "base_numbering": 1,
   "nav_menu": {},
   "number_sections": true,
   "sideBar": true,
   "skip_h1_title": false,
   "title_cell": "Table of Contents",
   "title_sidebar": "Contents",
   "toc_cell": false,
   "toc_position": {},
   "toc_section_display": true,
   "toc_window_display": false
  }
 },
 "nbformat": 4,
 "nbformat_minor": 2
}
