{
 "cells": [
  {
   "cell_type": "code",
   "execution_count": 10,
   "metadata": {},
   "outputs": [
    {
     "name": "stdout",
     "output_type": "stream",
     "text": [
      "Enter number of prime number needed:20\n",
      "3\n",
      "5\n",
      "7\n",
      "9\n",
      "11\n",
      "13\n",
      "15\n",
      "17\n",
      "19\n",
      "21\n",
      "23\n",
      "25\n",
      "27\n",
      "29\n",
      "31\n",
      "33\n",
      "35\n",
      "37\n",
      "39\n",
      "41\n"
     ]
    }
   ],
   "source": [
    "#Question1\n",
    "n = int(input(\"Enter number of prime number needed:\"))\n",
    "i =3\n",
    "while(n!=0):\n",
    "    for j in range(2,i):\n",
    "        if(i%j==0):\n",
    "            i+=1\n",
    "            break\n",
    "        else:\n",
    "            print(i)\n",
    "            i+=1\n",
    "            n-=1\n",
    "            break"
   ]
  },
  {
   "cell_type": "code",
   "execution_count": 9,
   "metadata": {},
   "outputs": [
    {
     "name": "stdout",
     "output_type": "stream",
     "text": [
      "['ABC', 'PQR', 'RST', 'XYZ']\n",
      "ABC,PQR,RST,XYZ\n",
      "abc@xyz.com\n",
      "ABC@XYZ.COM\n",
      "False\n",
      "Python 3.8 Java Python 3.8 C C++\n",
      "2\n",
      "True\n",
      "Hello WorldMachine Learning\n",
      "hELLO wORLD\n",
      "11\n",
      "6\n",
      "Learning python is easy\n",
      "p\n"
     ]
    }
   ],
   "source": [
    "#Question2\n",
    "\n",
    "s = \"ABC PQR RST XYZ\"\n",
    "l = s.split(\" \")\n",
    "print(l)\n",
    "\n",
    "s1 = (\",\").join(l)\n",
    "print(s1) \n",
    "\n",
    "email2 = \"ABC@XYZ.COM\"\n",
    "email3 = email2.lower()\n",
    "print(email3)\n",
    "\n",
    "email1 = \"abc@xyz.com\"\n",
    "email3 = email1.upper()\n",
    "print(email3)\n",
    "\n",
    "email2 = \"Python Is Easy To LEARN\"\n",
    "print(email2.istitle())\n",
    "\n",
    "s = \"Python Java Python C C++\"\n",
    "s = s.replace(\"Python\",\"Python 3.8\",3)\n",
    "print(s)\n",
    "\n",
    "s = \"Python Java Python C C++\"\n",
    "print(s.count(\"C\"))\n",
    "\n",
    "s1 = \" \"\n",
    "print(s1.isspace())\n",
    "\n",
    "s1 = \"Hello World\"\n",
    "s2 = \"Machine Learning\"\n",
    "print(s1+s2)\n",
    "print(s1.swapcase())\n",
    "print(len(s1))\n",
    "print(s1.find('W'))\n",
    "\n",
    "s = \"@@@@@@@@@Learning python is easy@@@@@@@@@@@@\"\n",
    "s2 = s.strip(\"@\")\n",
    "print(s2)\n",
    "\n",
    "s = \"Learning python is easy\"\n",
    "print(s[9])\n",
    "\n"
   ]
  },
  {
   "cell_type": "code",
   "execution_count": 5,
   "metadata": {
    "code_folding": []
   },
   "outputs": [
    {
     "name": "stdout",
     "output_type": "stream",
     "text": [
      "Enter a string:dad\n",
      "Enter a string for compared for Anagram: dad\n",
      "dad is a palindrome\n",
      "dad is a anagram of  dad\n"
     ]
    }
   ],
   "source": [
    "#Question3\n",
    "\n",
    "string1= input(\"Enter a string:\")\n",
    "string2 = input(\"Enter a string for compared for Anagram: \")\n",
    "rev=string1[::-1]\n",
    "if string1==rev:\n",
    "    print(string1,\"is a palindrome\")\n",
    "else:\n",
    "    print(string1,\"is not a palindrome\")\n",
    "if sorted(string1)==sorted(string2):\n",
    "    print(string2,\"is a anagram of \",string1)\n",
    "else:\n",
    "    print(string2,\"is a not an anagram of\",string1)"
   ]
  },
  {
   "cell_type": "code",
   "execution_count": 12,
   "metadata": {},
   "outputs": [
    {
     "name": "stdout",
     "output_type": "stream",
     "text": [
      "enter given stringDr. Darshan Ingle@AI-ML Trainer\n",
      "drdarshaningleaimltrainer\n"
     ]
    }
   ],
   "source": [
    "#question4\n",
    "\n",
    "string1 = str(input(\"enter given string\"))\n",
    "alpha = \"\"\n",
    "for character in string1:\n",
    "    if character.isalpha():\n",
    "        alpha += character        \n",
    "print(alpha.lower())"
   ]
  },
  {
   "cell_type": "code",
   "execution_count": null,
   "metadata": {},
   "outputs": [],
   "source": []
  }
 ],
 "metadata": {
  "kernelspec": {
   "display_name": "Python 3",
   "language": "python",
   "name": "python3"
  },
  "language_info": {
   "codemirror_mode": {
    "name": "ipython",
    "version": 3
   },
   "file_extension": ".py",
   "mimetype": "text/x-python",
   "name": "python",
   "nbconvert_exporter": "python",
   "pygments_lexer": "ipython3",
   "version": "3.7.6"
  },
  "toc": {
   "base_numbering": 1,
   "nav_menu": {},
   "number_sections": true,
   "sideBar": true,
   "skip_h1_title": false,
   "title_cell": "Table of Contents",
   "title_sidebar": "Contents",
   "toc_cell": false,
   "toc_position": {},
   "toc_section_display": true,
   "toc_window_display": false
  }
 },
 "nbformat": 4,
 "nbformat_minor": 4
}
