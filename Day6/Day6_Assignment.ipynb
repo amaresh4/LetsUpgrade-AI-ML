{
 "cells": [
  {
   "cell_type": "code",
   "execution_count": 1,
   "metadata": {},
   "outputs": [
    {
     "name": "stdout",
     "output_type": "stream",
     "text": [
      "Enter email idamaresh@gmail.com\n",
      "gmail\n"
     ]
    }
   ],
   "source": [
    "#Question1\n",
    "\n",
    "\n",
    "email = input(\"Enter email id\")\n",
    "\n",
    "def extract_company(email):\n",
    "    return email.split('@')[-1].split('.')[0]\n",
    "\n",
    "company = extract_company(email)\n",
    "\n",
    "print(company)\n",
    "\n",
    "\n"
   ]
  },
  {
   "cell_type": "code",
   "execution_count": 4,
   "metadata": {},
   "outputs": [
    {
     "name": "stdout",
     "output_type": "stream",
     "text": [
      "Enter the list items : without,hello,bag,world\n"
     ]
    },
    {
     "data": {
      "text/plain": [
       "['bag', 'hello', 'without', 'world']"
      ]
     },
     "execution_count": 4,
     "metadata": {},
     "output_type": "execute_result"
    }
   ],
   "source": [
    "#Question2\n",
    "\n",
    "list1 = input(\"Enter the list items : \").split(',')\n",
    "list2=[]\n",
    "for i in list1:\n",
    "    list2.append(i)\n",
    "    \n",
    "sorted(list2)"
   ]
  },
  {
   "cell_type": "code",
   "execution_count": 11,
   "metadata": {},
   "outputs": [
    {
     "name": "stdout",
     "output_type": "stream",
     "text": [
      "{'cherry', 'apple', 'banana'}\n",
      "python\n",
      "java\n",
      "dotnet\n",
      "True\n",
      "{40, 10, 50, 20, 60, 30}\n",
      "{70, 40, 10, 80, 50, 20, 90, 30}\n",
      "4\n",
      "{40, 10, 50, 60, 30}\n",
      "{40, 10, 50, 20, 60, 30}\n",
      "{10, 50, 20, 60, 30} 40\n",
      "set()\n",
      "<class 'set'>\n",
      "{70, 40, 10, 80, 50, 20, 90, 60, 30}\n"
     ]
    }
   ],
   "source": [
    "#Question3\n",
    "\n",
    "#Create Set\n",
    "set = {\"apple\", \"banana\", \"cherry\"}\n",
    "print(set)\n",
    "\n",
    "#Access items\n",
    "set = {\"dotnet\", \"java\", \"python\"}\n",
    "\n",
    "for x in set:\n",
    "  print(x) \n",
    "\n",
    "set = {\"dotnet\", \"java\", \"python\"}\n",
    "print(\"java\" in set) \n",
    "\n",
    "#Add item\n",
    "s1 = {10,20,30,40,50}\n",
    "s1.add(60)\n",
    "print(s1)\n",
    "\n",
    "#Update item\n",
    "s1 = {10,20,30,40,50}\n",
    "s1.update([70,80,90])\n",
    "print(s1)\n",
    "\n",
    "#length of set\n",
    "s1 = {30,40,50,60}\n",
    "print(len(s1))\n",
    "          \n",
    "          \n",
    "#remove item from set\n",
    "s1 = {10,20,30,40,50,60}\n",
    "s1.remove(20)\n",
    "print(s1)\n",
    "\n",
    "#discard an item from set\n",
    "s1 = {10,20,30,40,50,60}\n",
    "s1.discard(200)\n",
    "print(s1)\n",
    "\n",
    "#Pop an item\n",
    "s1 = {10,20,30,40,50,60}\n",
    "r = s1.pop()\n",
    "print(s1,r)\n",
    "\n",
    "#Clear an item\n",
    "s1 = {10,20,30,40,50,60}\n",
    "s1.clear()\n",
    "print(s1)\n",
    "\n",
    "#delete \n",
    "set = {\"apple\", \"banana\", \"cherry\"}\n",
    "del set\n",
    "print(set) \n",
    "\n",
    "s1 = {10,20,30,40,50,60}\n",
    "s2 = {40,50,60,70,80,90}\n",
    "s3 = s1.union(s2)\n",
    "print(s3)\n",
    "         "
   ]
  },
  {
   "cell_type": "code",
   "execution_count": 12,
   "metadata": {},
   "outputs": [
    {
     "name": "stdout",
     "output_type": "stream",
     "text": [
      "4\n"
     ]
    }
   ],
   "source": [
    "#Question 4\n",
    "\n",
    "def getMissingNo(a, n): \n",
    "    i, total = 0, 1\n",
    "\n",
    "    for i in range(2, n + 2): \n",
    "        total += i \n",
    "        total -= a[i - 2] \n",
    "    return total \n",
    "\n",
    "\n",
    "arr = [1, 2, 3, 5] \n",
    "print(getMissingNo(arr, len(arr))) \n",
    "\n"
   ]
  },
  {
   "cell_type": "code",
   "execution_count": 15,
   "metadata": {},
   "outputs": [
    {
     "name": "stdout",
     "output_type": "stream",
     "text": [
      "[12, 24, 35, 88, 120, 155]\n"
     ]
    }
   ],
   "source": [
    "#Question5\n",
    "\n",
    "def Remove(duplicate): \n",
    "    final_list = [] \n",
    "    for num in duplicate: \n",
    "        if num not in final_list: \n",
    "            final_list.append(num) \n",
    "    return final_list \n",
    "      \n",
    "\n",
    "duplicate = [12,24,35,24,88,120,155,88,120,155] \n",
    "print(Remove(duplicate)) "
   ]
  },
  {
   "cell_type": "code",
   "execution_count": null,
   "metadata": {},
   "outputs": [],
   "source": []
  }
 ],
 "metadata": {
  "kernelspec": {
   "display_name": "Python 3",
   "language": "python",
   "name": "python3"
  },
  "language_info": {
   "codemirror_mode": {
    "name": "ipython",
    "version": 3
   },
   "file_extension": ".py",
   "mimetype": "text/x-python",
   "name": "python",
   "nbconvert_exporter": "python",
   "pygments_lexer": "ipython3",
   "version": "3.7.6"
  },
  "toc": {
   "base_numbering": 1,
   "nav_menu": {},
   "number_sections": true,
   "sideBar": true,
   "skip_h1_title": false,
   "title_cell": "Table of Contents",
   "title_sidebar": "Contents",
   "toc_cell": false,
   "toc_position": {},
   "toc_section_display": true,
   "toc_window_display": false
  }
 },
 "nbformat": 4,
 "nbformat_minor": 4
}
