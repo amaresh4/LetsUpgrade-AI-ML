{
 "cells": [
  {
   "cell_type": "code",
   "execution_count": 3,
   "metadata": {},
   "outputs": [
    {
     "name": "stdout",
     "output_type": "stream",
     "text": [
      "Subtraction is :  (1+1j)\n"
     ]
    }
   ],
   "source": [
    "#Question 1 \n",
    "def subComplex( z1, z2): \n",
    "    return z1-z2 \n",
    "  \n",
    "z1 = complex(2, 3) \n",
    "z2 = complex(1, 2) \n",
    "print( \"Subtraction is : \", subComplex(z1, z2)) "
   ]
  },
  {
   "cell_type": "code",
   "execution_count": 4,
   "metadata": {},
   "outputs": [
    {
     "name": "stdout",
     "output_type": "stream",
     "text": [
      "Enter a number: 81\n",
      "The square root of 81.000 is 3.000\n"
     ]
    }
   ],
   "source": [
    "#Question 2\n",
    "num = float(input('Enter a number: '))\n",
    "\n",
    "num_sqrt = num ** 0.250\n",
    "print('The square root of %0.3f is %0.3f'%(num ,num_sqrt))"
   ]
  },
  {
   "cell_type": "code",
   "execution_count": 5,
   "metadata": {},
   "outputs": [
    {
     "name": "stdout",
     "output_type": "stream",
     "text": [
      "The value of x after swapping: 20\n",
      "The value of y after swapping: 15\n"
     ]
    }
   ],
   "source": [
    "#Question 3\n",
    "x = 15\n",
    "y = 20\n",
    "\n",
    "temp = x\n",
    "x = y\n",
    "y = temp\n",
    "\n",
    "print('The value of x after swapping: {}'.format(x))\n",
    "print('The value of y after swapping: {}'.format(y))"
   ]
  },
  {
   "cell_type": "code",
   "execution_count": 6,
   "metadata": {},
   "outputs": [
    {
     "name": "stdout",
     "output_type": "stream",
     "text": [
      "x = 20\n",
      "y = 15\n"
     ]
    }
   ],
   "source": [
    "#Question 4\n",
    "x = 15\n",
    "y = 20\n",
    "\n",
    "x, y = y, x\n",
    "print(\"x =\", x)\n",
    "print(\"y =\", y)"
   ]
  },
  {
   "cell_type": "code",
   "execution_count": 11,
   "metadata": {},
   "outputs": [
    {
     "name": "stdout",
     "output_type": "stream",
     "text": [
      "Enter temperature in Fahrenheit : 96.8\n",
      "Fahrenheit to celsius conversion, We get a temperature 36.0 celsius\n",
      "\n",
      "Fahrenheit to Kelvin conversation, We get a temperature 309.0 Kelvin\n"
     ]
    }
   ],
   "source": [
    "#Question 5\n",
    "\n",
    "f= input(\"Enter temperature in Fahrenheit : \")\n",
    "output_cel = 5/9*(float(f) - 32)\n",
    "output_kel = 5/9*(float(f) - 32) + 273\n",
    "\n",
    "print(\"Fahrenheit to celsius conversion, We get a temperature {} celsius\".format(output_cel))\n",
    "print(\"\")\n",
    "print(\"Fahrenheit to Kelvin conversation, We get a temperature {} Kelvin\".format(output_kel))\n",
    "\n",
    "\n"
   ]
  },
  {
   "cell_type": "code",
   "execution_count": 12,
   "metadata": {},
   "outputs": [
    {
     "name": "stdout",
     "output_type": "stream",
     "text": [
      "<class 'int'>\n",
      "<class 'float'>\n",
      "<class 'complex'>\n",
      "<class 'str'>\n",
      "<class 'list'>\n",
      "<class 'tuple'>\n",
      "<class 'set'>\n",
      "<class 'dict'>\n"
     ]
    }
   ],
   "source": [
    "#Question 6\n",
    "\n",
    "a = 5\n",
    "print(type(a))\n",
    "\n",
    "b = 2.0\n",
    "print(type(b))\n",
    "\n",
    "c= 3+4j\n",
    "print(type(c))\n",
    "\n",
    "d= \"hello\"\n",
    "print(type(d))\n",
    "\n",
    "e= [1,2,3]\n",
    "print(type(e))\n",
    "\n",
    "f= (1,2,3,4)\n",
    "print(type(f))\n",
    "\n",
    "g={1,\"two\",3,4}\n",
    "print(type(g))\n",
    "\n",
    "h={1:\"one\", 2:\"two\"}\n",
    "print(type(h))"
   ]
  },
  {
   "cell_type": "markdown",
   "metadata": {},
   "source": [
    "#Question 7\n",
    "\n",
    "\n",
    "1.Create a account(Profile) in GitHub\n",
    "2.Make a New Repository and name it as a LetsUpgrade AI-ML, and set public mode for the repository created \n",
    "3.Next Upload a folder of that particular day ,lets say \"day3\"and in  that folder it should have a assignment of that Day.\n",
    "Then Copy the link of that assignment and  paste it in Assignment submission link.( Before submitting that link,check the link through the incognito Window).\n",
    "\n",
    "\n"
   ]
  }
 ],
 "metadata": {
  "kernelspec": {
   "display_name": "Python 3",
   "language": "python",
   "name": "python3"
  },
  "language_info": {
   "codemirror_mode": {
    "name": "ipython",
    "version": 3
   },
   "file_extension": ".py",
   "mimetype": "text/x-python",
   "name": "python",
   "nbconvert_exporter": "python",
   "pygments_lexer": "ipython3",
   "version": "3.7.6"
  },
  "toc": {
   "base_numbering": 1,
   "nav_menu": {},
   "number_sections": true,
   "sideBar": true,
   "skip_h1_title": false,
   "title_cell": "Table of Contents",
   "title_sidebar": "Contents",
   "toc_cell": false,
   "toc_position": {},
   "toc_section_display": true,
   "toc_window_display": false
  }
 },
 "nbformat": 4,
 "nbformat_minor": 4
}
